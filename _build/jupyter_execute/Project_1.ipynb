{
 "cells": [
  {
   "cell_type": "code",
   "execution_count": 21,
   "id": "8be5a22c",
   "metadata": {},
   "outputs": [],
   "source": [
    "import plotly.io as pio\n",
    "\n",
    "pio.renderers.default = \"vscode+jupyterlab+notebook_connected\""
   ]
  },
  {
   "cell_type": "markdown",
   "id": "8937da6b",
   "metadata": {},
   "source": [
    "# Project 1"
   ]
  },
  {
   "cell_type": "markdown",
   "id": "4a3eae0d-7efb-44c2-a3b6-9d9418b00715",
   "metadata": {},
   "source": [
    "# Step 1\n",
    "**Importing Dataset and Setting the Dataframe Using Panda**"
   ]
  },
  {
   "cell_type": "code",
   "execution_count": 22,
   "id": "a41abffd-c023-47c7-9232-4a7a17f4c60b",
   "metadata": {},
   "outputs": [],
   "source": [
    "import pandas as pd\n",
    "\n",
    "df = pd.read_csv('Electric_Vehicle_Population_Data.csv')"
   ]
  },
  {
   "cell_type": "markdown",
   "id": "f7595b61-d41c-4c9f-b6c1-6a0b660f4393",
   "metadata": {},
   "source": [
    "# Step 2\n",
    "**Selecting a Specific Column**\n",
    "\n",
    "*Electric Range*"
   ]
  },
  {
   "cell_type": "code",
   "execution_count": 23,
   "id": "4eb91e9f-a4d5-4c01-a286-44c39f33dca7",
   "metadata": {},
   "outputs": [
    {
     "name": "stdout",
     "output_type": "stream",
     "text": [
      "0     30.0\n",
      "1    215.0\n",
      "2     15.0\n",
      "3    215.0\n",
      "4    150.0\n",
      "Name: Electric Range, dtype: float64\n"
     ]
    }
   ],
   "source": [
    "selected_column = df[\"Electric Range\"]\n",
    "\n",
    "print(selected_column.head())"
   ]
  },
  {
   "cell_type": "markdown",
   "id": "e1c08397-5c20-43a5-bfa5-192e2812d257",
   "metadata": {},
   "source": [
    "# Step 3\n",
    "**Removing All Zero Entries in Electric Range Column / Cleaning the Data**\n",
    "\n",
    "*This is because, when viewing the data, the 0's are listed for batterys where eligibility unknown as battery range has not been researched, if I do not remove that entry, the median, mean and mode are extremely skewed*\n",
    "\n",
    "*Below I have put what the mean, median and mode is when I have not cleaned the data*"
   ]
  },
  {
   "cell_type": "code",
   "execution_count": 24,
   "id": "fb50648a-14f7-4e88-8579-94114371b48a",
   "metadata": {},
   "outputs": [
    {
     "name": "stdout",
     "output_type": "stream",
     "text": [
      "Mean (non-zero): 50.6022411496003\n",
      "Median (non-zero): 0.0\n",
      "Mode (non-zero): [0.]\n"
     ]
    }
   ],
   "source": [
    "mean_value = selected_column.mean()\n",
    "median_value = selected_column.median()\n",
    "mode_value = selected_column.mode()\n",
    "\n",
    "print(\"Mean (non-zero):\", mean_value)\n",
    "print(\"Median (non-zero):\", median_value)\n",
    "print(\"Mode (non-zero):\", mode_value.values)"
   ]
  },
  {
   "cell_type": "code",
   "execution_count": 25,
   "id": "a7af4ac1-304e-4699-8936-7cb4c3f67ccb",
   "metadata": {},
   "outputs": [],
   "source": [
    "non_zero_column = df[\"Electric Range\"][df[\"Electric Range\"] != 0]"
   ]
  },
  {
   "cell_type": "markdown",
   "id": "9997b025-4ef3-4842-8aca-488e7dcecfeb",
   "metadata": {},
   "source": [
    "# Step 4\n",
    "**Calculating the Mean, Median and Mode of Electric Range**"
   ]
  },
  {
   "cell_type": "code",
   "execution_count": 26,
   "id": "7ec4226b-b21c-44cb-8f11-31c931b27f3e",
   "metadata": {},
   "outputs": [
    {
     "name": "stdout",
     "output_type": "stream",
     "text": [
      "Mean (non-zero): 116.21715515922453\n",
      "Median (non-zero): 75.0\n",
      "Mode (non-zero): [215.]\n"
     ]
    }
   ],
   "source": [
    "mean_value = non_zero_column.mean()\n",
    "median_value = non_zero_column.median()\n",
    "mode_value = non_zero_column.mode()\n",
    "\n",
    "print(\"Mean (non-zero):\", mean_value)\n",
    "print(\"Median (non-zero):\", median_value)\n",
    "print(\"Mode (non-zero):\", mode_value.values)"
   ]
  },
  {
   "cell_type": "markdown",
   "id": "f0996330-12ae-4f2f-a710-ca7aca1fe911",
   "metadata": {},
   "source": [
    "# Step 5\n",
    "**Importing My Data Set With Python (aka hard way)**\n",
    "\n",
    "1. I am selecting the data column I want to focus on \"Electric Range\"*\n",
    "\n",
    "2. I am excluding all entries with **\"0\"**. This is because, when viewing the data, the 0's are listed for batterys where eligibility unknown as battery range has not been researched"
   ]
  },
  {
   "cell_type": "code",
   "execution_count": 36,
   "id": "22ad6d46-e255-4999-a254-257a04b618f0",
   "metadata": {},
   "outputs": [],
   "source": [
    "import csv\n",
    "\n",
    "filtered_data = []\n",
    "\n",
    "with open(\"Electric_Vehicle_Population_Data.csv\", mode=\"r\") as file:\n",
    "    reader = csv.DictReader(file)\n",
    "    for row in reader:\n",
    "        try:\n",
    "            value = float(row[\"Electric Range\"])\n",
    "            if value != 0:\n",
    "                filtered_data.append(row)  # Append the entire row for later use\n",
    "        except ValueError:\n",
    "            pass\n",
    "        "
   ]
  },
  {
   "cell_type": "markdown",
   "id": "60ab1047-2409-491e-9b38-53007b38e7ca",
   "metadata": {},
   "source": [
    "# Calculating the Mean, Median and Mode of Electric Range using Python"
   ]
  },
  {
   "cell_type": "code",
   "execution_count": 37,
   "id": "394e53ab-0fbd-4156-894d-d361be02d24f",
   "metadata": {},
   "outputs": [
    {
     "name": "stdout",
     "output_type": "stream",
     "text": [
      "Mean Electric Range: 116.22 miles\n",
      "Median Electric Range: 75.00 miles\n",
      "Mode Electric Range: 215.0\n"
     ]
    }
   ],
   "source": [
    "def calculate_mean(values):\n",
    "    total = sum(values)\n",
    "    count = len(values)\n",
    "    return total / count\n",
    "\n",
    "def calculate_median(values):\n",
    "    sorted_values = sorted(values)\n",
    "    n = len(sorted_values)\n",
    "    middle = n // 2\n",
    "    if n % 2 == 0: \n",
    "        return (sorted_values[middle - 1] + sorted_values[middle]) / 2\n",
    "    else:  \n",
    "        return sorted_values[middle]\n",
    "\n",
    "def calculate_mode(values):\n",
    "    frequency = {}\n",
    "    for value in values:\n",
    "        if value in frequency:\n",
    "            frequency[value] += 1\n",
    "        else:\n",
    "            frequency[value] = 1\n",
    "    max_count = max(frequency.values())\n",
    "    modes = [key for key, count in frequency.items() if count == max_count]\n",
    "    return modes  \n",
    "\n",
    "if data: \n",
    "    mean = calculate_mean(data)\n",
    "    median = calculate_median(data)\n",
    "    mode = calculate_mode(data)\n",
    "\n",
    "    print(f\"Mean Electric Range: {mean:.2f} miles\")\n",
    "    print(f\"Median Electric Range: {median:.2f} miles\")\n",
    "    print(f\"Mode Electric Range: {', '.join(map(str, mode))}\")\n",
    "else:\n",
    "    print(\"No valid Electric Range data found.\")\n"
   ]
  },
  {
   "cell_type": "markdown",
   "id": "8809e62e-3fbd-4efc-bd06-de548849c915",
   "metadata": {},
   "source": [
    "# Step 6\n",
    "**Create a data visualization of the Energy Range Data**\n",
    "* Excluding as previously mentioned 0s\n",
    "* Filtering Out Duplicate Entries Under Model\n",
    "* Getting the Average of Electric Range for Cars\n",
    "* Sort and Display by the top 10 cars with most range\n",
    "  \n",
    "*Shows which cars has the most range*"
   ]
  },
  {
   "cell_type": "code",
   "execution_count": 38,
   "id": "0bb7cabb-49c0-4565-8f8c-1f0c4b86dac8",
   "metadata": {},
   "outputs": [
    {
     "name": "stdout",
     "output_type": "stream",
     "text": [
      "Top 10 Electric Car Models with Highest Average Electric Range:\n",
      "MODEL Y: 291.00 miles\n",
      "KONA: 258.00 miles\n",
      "BOLT EV: 244.98 miles\n",
      "MODEL X: 240.56 miles\n",
      "MODEL 3: 238.78 miles\n",
      "ROADSTER: 234.06 miles\n",
      "I-PACE: 234.00 miles\n",
      "PS2: 233.00 miles\n",
      "MODEL S: 227.54 miles\n",
      "E-TRON SPORTBACK: 218.00 miles\n"
     ]
    }
   ],
   "source": [
    "range_by_model = {}\n",
    "for row in filtered_data:\n",
    "    model = row[\"Model\"]\n",
    "    electric_range = int(row[\"Electric Range\"])\n",
    "    if model not in range_by_model:\n",
    "        range_by_model[model] = {\"total_range\": 0, \"count\": 0}\n",
    "    range_by_model[model][\"total_range\"] += electric_range\n",
    "    range_by_model[model][\"count\"] += 1\n",
    "\n",
    "average_range_by_model = {\n",
    "    model: data[\"total_range\"] / data[\"count\"]\n",
    "    for model, data in range_by_model.items()\n",
    "}\n",
    "\n",
    "sorted_models = sorted(\n",
    "    average_range_by_model.items(), key=lambda x: x[1], reverse=True\n",
    ")\n",
    "\n",
    "print(\"Top 10 Electric Car Models with Highest Average Electric Range:\")\n",
    "for model, avg_range in sorted_models[:10]:\n",
    "    print(f\"{model}: {avg_range:.2f} miles\")\n"
   ]
  },
  {
   "cell_type": "markdown",
   "id": "a4e0e143-990b-45bf-971e-d83d924a4c7e",
   "metadata": {},
   "source": [
    "# Step 7: Create a text-based bar chart for visualization\n",
    "\n",
    "* Uses ASCII-based bars to visualize the electric range (kind of looks like a speed track)\n",
    "* Bars are proportional to the maximum value in the data."
   ]
  },
  {
   "cell_type": "code",
   "execution_count": 39,
   "id": "e2ea7c7f-974f-4d7f-aa4b-5e91bd662f8e",
   "metadata": {},
   "outputs": [
    {
     "name": "stdout",
     "output_type": "stream",
     "text": [
      "\n",
      "Text-Based Visualization of Electric Range Data:\n",
      "MODEL Y         | ################################################## 291.00 miles\n",
      "KONA            | ############################################ 258.00 miles\n",
      "BOLT EV         | ########################################## 244.98 miles\n",
      "MODEL X         | ######################################### 240.56 miles\n",
      "MODEL 3         | ######################################### 238.78 miles\n",
      "ROADSTER        | ######################################## 234.06 miles\n",
      "I-PACE          | ######################################## 234.00 miles\n",
      "PS2             | ######################################## 233.00 miles\n",
      "MODEL S         | ####################################### 227.54 miles\n",
      "E-TRON SPORTBACK | ##################################### 218.00 miles\n"
     ]
    }
   ],
   "source": [
    "print(\"\\nText-Based Visualization of Electric Range Data:\")\n",
    "max_length = 50\n",
    "\n",
    "for model, avg_range in sorted_models[:10]:\n",
    "    bar_length = int((avg_range / sorted_models[0][1]) * max_length)  \n",
    "    bar = \"#\" * bar_length\n",
    "    print(f\"{model:<15} | {bar} {avg_range:.2f} miles\")\n"
   ]
  }
 ],
 "metadata": {
  "kernelspec": {
   "display_name": "Python 3 (ipykernel)",
   "language": "python",
   "name": "python3"
  },
  "language_info": {
   "codemirror_mode": {
    "name": "ipython",
    "version": 3
   },
   "file_extension": ".py",
   "mimetype": "text/x-python",
   "name": "python",
   "nbconvert_exporter": "python",
   "pygments_lexer": "ipython3",
   "version": "3.12.0"
  }
 },
 "nbformat": 4,
 "nbformat_minor": 5
}